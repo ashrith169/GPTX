{
 "cells": [
  {
   "cell_type": "code",
   "execution_count": null,
   "id": "9917c892",
   "metadata": {},
   "outputs": [],
   "source": [
    "import pymupdf as pmu"
   ]
  },
  {
   "cell_type": "code",
   "execution_count": null,
   "id": "19e8b978",
   "metadata": {},
   "outputs": [],
   "source": [
    "doc=pmu.open(\"E:/main/files/10th english inner 2021-22 for website.pdf\")"
   ]
  },
  {
   "cell_type": "code",
   "execution_count": null,
   "id": "74c964a6",
   "metadata": {},
   "outputs": [],
   "source": [
    "blocks=doc[2].get_text(\"dict\")['blocks']"
   ]
  },
  {
   "cell_type": "code",
   "execution_count": null,
   "id": "1f3fe637",
   "metadata": {},
   "outputs": [],
   "source": [
    "for x in blocks:\n",
    "    try:\n",
    "        for y in x['lines']:\n",
    "            for z in y['spans']:\n",
    "                print(z['text'])\n",
    "                print(z['size'])\n",
    "    except:\n",
    "        print(\" \")\n",
    "\n",
    "        "
   ]
  },
  {
   "cell_type": "code",
   "execution_count": null,
   "id": "2db7e542",
   "metadata": {},
   "outputs": [],
   "source": [
    "import pandas as pd"
   ]
  },
  {
   "cell_type": "code",
   "execution_count": null,
   "id": "51fb712d",
   "metadata": {},
   "outputs": [],
   "source": [
    "df=pd.DataFrame(columns=['pageno','heading','content'])"
   ]
  },
  {
   "cell_type": "code",
   "execution_count": null,
   "id": "263e8508",
   "metadata": {},
   "outputs": [],
   "source": [
    "df['content']= \" \""
   ]
  },
  {
   "cell_type": "markdown",
   "id": "29c65ad7",
   "metadata": {},
   "source": [
    "# Font Finder which is largest among all smallest"
   ]
  },
  {
   "cell_type": "code",
   "execution_count": null,
   "id": "6f3a70b0",
   "metadata": {},
   "outputs": [],
   "source": [
    "pageno=0;\n",
    "lim=[]\n",
    "row=0\n",
    "while doc.page_count-1>=pageno:\n",
    "    page_blocks=doc[pageno].get_text(\"dict\")['blocks']\n",
    "    #print(pageno)\n",
    "    try:\n",
    "        for x in page_blocks:\n",
    "                try:\n",
    "                    for y in x['lines']:\n",
    "                            for z in y['spans']:\n",
    "                                if z['size'] not in lim:\n",
    "                                    lim.append(z['size'])\n",
    "                                    # print(f\"{z['size']}  {z['text']}\")\n",
    "                                if 59>z['size']>18:\n",
    "                                    df.at[row,'heading']=z['text']\n",
    "                                    #print(f\"{z['text']}\")\n",
    "                                    row=row+1\n",
    "                                if 18>z['size']:\n",
    "                                   #df.at[row-1,'content']=df.loc[row-1,'content']+z['text']\n",
    "                                    if str(df.loc[row-1,'content'])=='nan':\n",
    "                                        print(z['text'])\n",
    "                                        df.at[row-1,'content']=z['text']\n",
    "                                    else:\n",
    "                                        df.at[row-1,'content']=str(df.loc[row-1,'content'])+z['text']\n",
    "                                        print(str(df.loc[row-1,'content'])+z['text'])\n",
    "\n",
    "                                     \n",
    "                                    \n",
    "                except:\n",
    "                     print(\" \")\n",
    "            \n",
    "    except:\n",
    "        print(pageno)\n",
    "\n",
    "    pageno=pageno+1\n",
    "    \n",
    "    \n",
    "   \n"
   ]
  },
  {
   "cell_type": "code",
   "execution_count": null,
   "id": "906d86e7",
   "metadata": {},
   "outputs": [],
   "source": [
    "df.at[3,'content']=str(df.loc[3,'content'])+'kkk'"
   ]
  },
  {
   "cell_type": "code",
   "execution_count": null,
   "id": "97c6a3d2",
   "metadata": {},
   "outputs": [],
   "source": [
    "df"
   ]
  },
  {
   "cell_type": "code",
   "execution_count": null,
   "id": "870a5934",
   "metadata": {},
   "outputs": [],
   "source": [
    "df.to_csv(\"10th class englisg.csv\")"
   ]
  },
  {
   "cell_type": "code",
   "execution_count": null,
   "id": "985f68f7",
   "metadata": {},
   "outputs": [],
   "source": [
    "for x in blocks:\n",
    "    for y in x['lines']:\n",
    "        for z in y['spans']:\n",
    "            print(f\"{z['size']}  {z['text']}\")"
   ]
  }
 ],
 "metadata": {
  "kernelspec": {
   "display_name": "Python 3 (ipykernel)",
   "language": "python",
   "name": "python3"
  },
  "language_info": {
   "codemirror_mode": {
    "name": "ipython",
    "version": 3
   },
   "file_extension": ".py",
   "mimetype": "text/x-python",
   "name": "python",
   "nbconvert_exporter": "python",
   "pygments_lexer": "ipython3",
   "version": "3.8.9"
  }
 },
 "nbformat": 4,
 "nbformat_minor": 5
}
