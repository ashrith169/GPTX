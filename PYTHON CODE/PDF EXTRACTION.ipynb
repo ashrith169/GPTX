{
 "cells": [
  {
   "cell_type": "markdown",
   "metadata": {},
   "source": [
    "Connected to Python 3.12.3"
   ]
  },
  {
   "cell_type": "code",
   "execution_count": null,
   "metadata": {},
   "outputs": [],
   "source": [
    "import pymupdf as pmu\n",
    "doc=pmu.open(\"D:\\gpt1\\GPTX\\9th english inner 2021-22 for website.pdf\")\n",
    "blocks=doc[2].get_text(\"dict\")['blocks']\n",
    "for x in blocks:\n",
    "    try:\n",
    "        for y in x['lines']:\n",
    "            for z in y['spans']:\n",
    "                print(z['text'])\n",
    "                print(z['size'])\n",
    "    except:\n",
    "        print(\" \")\n",
    "\n",
    "        \n",
    "import pandas as pd\n",
    "df=pd.DataFrame(columns=['pageno','heading','content'])\n",
    "df['content']= \" \"\n",
    "\n",
    "pageno=0;\n",
    "lim=[]\n",
    "row=0\n",
    "while doc.page_count-1>=pageno:\n",
    "    page_blocks=doc[pageno].get_text(\"dict\")['blocks']\n",
    "    #print(pageno)\n",
    "    try:\n",
    "        for x in page_blocks:\n",
    "                try:\n",
    "                    for y in x['lines']:\n",
    "                            for z in y['spans']:\n",
    "                                if z['size'] not in lim:\n",
    "                                    lim.append(z['size'])\n",
    "                                    # print(f\"{z['size']}  {z['text']}\")\n",
    "                                if 59>z['size']>18:\n",
    "                                    df.at[row,'heading']=z['text']\n",
    "                                    #print(f\"{z['text']}\")\n",
    "                                    row=row+1\n",
    "                                if 18>z['size']:\n",
    "                                   #df.at[row-1,'content']=df.loc[row-1,'content']+z['text']\n",
    "                                    if str(df.loc[row-1,'content'])=='nan':\n",
    "                                        print(z['text'])\n",
    "                                        df.at[row-1,'content']=z['text']\n",
    "                                    else:\n",
    "                                        df.at[row-1,'content']=str(df.loc[row-1,'content'])+z['text']\n",
    "                                        print(str(df.loc[row-1,'content'])+z['text'])\n",
    "\n",
    "                                     \n",
    "                                    \n",
    "                except:\n",
    "                     print(\" \")\n",
    "            \n",
    "    except:\n",
    "        print(pageno)\n",
    "\n",
    "    pageno=pageno+1\n",
    "    \n",
    "    \n",
    "   \n",
    "df.at[3,'content']=str(df.loc[3,'content'])+'kkk'\n",
    "df\n",
    "df.to_csv(\"9th class english.csv\")\n",
    "for x in blocks:\n",
    " for y in x['lines']:\n",
    "        for z in y['spans']:\n",
    "            print(f\"{z['size']}  {z['text']}\")\n"
   ]
  }
 ],
 "metadata": {
  "kernelspec": {
   "display_name": "Python 3",
   "language": "python",
   "name": "python3"
  },
  "language_info": {
   "codemirror_mode": {
    "name": "ipython",
    "version": 3
   },
   "file_extension": ".py",
   "mimetype": "text/x-python",
   "name": "python",
   "nbconvert_exporter": "python",
   "pygments_lexer": "ipython3",
   "version": "3.11.9"
  }
 },
 "nbformat": 4,
 "nbformat_minor": 2
}
